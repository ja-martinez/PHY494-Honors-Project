{
 "cells": [
  {
   "cell_type": "code",
   "execution_count": 1,
   "metadata": {
    "collapsed": true
   },
   "outputs": [],
   "source": [
    "import numpy as np\n",
    "import matplotlib.pyplot as plt\n",
    "import pendulums\n",
    "% matplotlib inline"
   ]
  },
  {
   "cell_type": "code",
   "execution_count": 4,
   "metadata": {
    "collapsed": false
   },
   "outputs": [],
   "source": [
    "#Compare simple and double\n",
    "data = pendulums.rk4DobPend(0.5, 0.0000001, 0.5, 0.0000001, 0.5, 0.0, 0.0, 0.0, .0001, 75, linearized=False)\n",
    "t = data[0]\n",
    "phi1 = data[1]\n",
    "phi2 = data[2]\n",
    "w1 = data[3]\n",
    "w2 = data[4]\n",
    "L1 = data[5]\n",
    "L2 = data[6]\n",
    "m1 = data[7]\n",
    "m2 = data[8]\n",
    "g = data[9]\n",
    "\n",
    "data1 = pendulums.simplePendulum(0.5, 0.5, 0.5, 0, .0001, 75)\n",
    "t = data1[0]\n",
    "theta = data1[1]"
   ]
  },
  {
   "cell_type": "code",
   "execution_count": 9,
   "metadata": {
    "collapsed": false
   },
   "outputs": [
    {
     "data": {
      "text/plain": [
       "750000"
      ]
     },
     "execution_count": 9,
     "metadata": {},
     "output_type": "execute_result"
    }
   ],
   "source": [
    "t.size"
   ]
  },
  {
   "cell_type": "code",
   "execution_count": null,
   "metadata": {
    "collapsed": false
   },
   "outputs": [],
   "source": [
    "plt.plot(t, phi1, t, theta)"
   ]
  },
  {
   "cell_type": "code",
   "execution_count": 6,
   "metadata": {
    "collapsed": false
   },
   "outputs": [
    {
     "data": {
      "image/png": "[encoded data removed]",
      "text/plain": [
       "<matplotlib.figure.Figure at 0x29a2628d630>"
      ]
     },
     "metadata": {},
     "output_type": "display_data"
    },
    {
     "data": {
      "image/png": "[encoded data removed]",
      "text/plain": [
       "<matplotlib.figure.Figure at 0x29a26793dd8>"
      ]
     },
     "metadata": {},
     "output_type": "display_data"
    },
    {
     "name": "stdout",
     "output_type": "stream",
     "text": [
      "main frequency for simple pendulum: 0.693  period: 1.442\n",
      "main frequency for double pendulum: 0.693  period: 1.442\n"
     ]
    }
   ],
   "source": [
    "import matplotlib\n",
    "sp = np.fft.fft(theta)\n",
    "spfreq = np.fft.fftfreq(t.size, 0.0001)\n",
    "dp = np.fft.fft(phi1)\n",
    "dpfreq = np.fft.fftfreq(t.size, 0.0001)\n",
    "powersp = np.abs(sp)**2\n",
    "powerdp = np.abs(sp)**2\n",
    "fsp = spfreq[np.argmax(powersp)]\n",
    "fdp = spfreq[np.argmax(powerdp)]\n",
    "\n",
    "fig = plt.figure(figsize=(5, 10), dpi=100)\n",
    "ax = plt.subplot(4,1,1)\n",
    "ax.plot(spfreq, sp.real)\n",
    "ax.plot(spfreq, sp.imag)\n",
    "ax.plot(dpfreq, sp.real)\n",
    "ax.plot(dpfreq, sp.imag)\n",
    "ax.set_xlim(-2, 2)\n",
    "plt.show()\n",
    "\n",
    "fig = plt.figure(figsize=(5, 10), dpi=100)\n",
    "ax1 = plt.subplot(2,1,1)\n",
    "ax1.plot(spfreq, powersp)\n",
    "ax1.plot(dpfreq, powerdp)\n",
    "ax1.set_xlim(-2, 2)\n",
    "plt.show()\n",
    "\n",
    "fsp = spfreq[np.argmax(powersp)]\n",
    "print(\"main frequency for simple pendulum: {0:.3f}  period: {1:.3f}\".format(fsp, 1/fsp))\n",
    "print(\"main frequency for double pendulum: {0:.3f}  period: {1:.3f}\".format(fdp, 1/fdp))"
   ]
  },
  {
   "cell_type": "code",
   "execution_count": 11,
   "metadata": {
    "collapsed": false
   },
   "outputs": [
    {
     "data": {
      "text/plain": [
       "array([ 0.00872665,  0.00872665,  0.00872664, ...,  0.00605978,\n",
       "        0.00606256,  0.00606534])"
      ]
     },
     "execution_count": 11,
     "metadata": {},
     "output_type": "execute_result"
    }
   ],
   "source": [
    "phi1"
   ]
  },
  {
   "cell_type": "code",
   "execution_count": null,
   "metadata": {
    "collapsed": false
   },
   "outputs": [],
   "source": [
    "#compare linearized and nonlinearized\n",
    "small = pendulums.rk4DobPend(0.1, 0.1, 0.5, 0.5, 0.01, 0.0, 0.0, 0.0, .0001, 75, linearized=True)\n",
    "smt = small[0]\n",
    "smphi1 = small[1]\n",
    "smphi2 = small[2]\n",
    "smw1 = small[3]\n",
    "smw2 = small[4]\n",
    "smL1 = small[5]\n",
    "smL2 = small[6]\n",
    "smm1 = small[7]\n",
    "smm2 = small[8]\n",
    "smg = small[9]\n",
    "\n",
    "general = pendulums.rk4DobPend(0.1, 0.1, 0.5, 0.5, 0.01, 0.0, 0.0, 0.0, .0001, 75, linearized=False)\n",
    "gent = general[0]\n",
    "genphi1 = general[1]\n",
    "genphi2 = general[2]\n",
    "genw1 = general[3]\n",
    "genw2 = general[4]\n",
    "genL1 = general[5]\n",
    "genL2 = general[6]\n",
    "genm1 = general[7]\n",
    "genm2 = general[8]\n",
    "geng = general[9]"
   ]
  },
  {
   "cell_type": "code",
   "execution_count": null,
   "metadata": {
    "collapsed": false
   },
   "outputs": [],
   "source": [
    "sa = np.fft.fft(smphi1)\n",
    "safreq = np.fft.fftfreq(smt.size, 0.0001)\n",
    "gen = np.fft.fft(genphi1)\n",
    "genfreq = np.fft.fftfreq(gent.size, 0.0001)\n",
    "powersa = np.abs(sa)**2\n",
    "powergen = np.abs(gen)**2\n",
    "fsa = safreq[np.argmax(powersa)]\n",
    "fgen = genfreq[np.argmax(powergen)]\n",
    "\n",
    "ax2 = plt.subplot(4,1,1)\n",
    "ax2.plot(safreq, sa.real)\n",
    "ax2.plot(safreq, sa.imag)\n",
    "ax2.plot(genfreq, gen.real)\n",
    "ax2.plot(genfreq, gen.imag)\n",
    "ax2.set_xlim(-2, 2)\n",
    "plt.show()\n",
    "\n",
    "ax3 = plt.subplot(2,1,1)\n",
    "ax3.plot(safreq, powersa)\n",
    "ax3.plot(genfreq, powergen)\n",
    "ax3.set_xlim(-2, 2)\n",
    "plt.show()\n",
    "\n",
    "print(\"main frequency for pendulum with small angle approximation: {0:.3f}  period: {1:.3f}\".format(fsa, 1/fsa))\n",
    "print(\"main frequency for general pendulum: {0:.3f}  period: {1:.3f}\".format(fgen, 1/fgen))"
   ]
  },
  {
   "cell_type": "code",
   "execution_count": 9,
   "metadata": {
    "collapsed": false
   },
   "outputs": [],
   "source": [
    "# Bifurcation Diagram\n",
    "import numpy as np\n",
    "import matplotlib.pyplot as plt\n",
    "import pendulums as pd\n",
    "% matplotlib inline\n",
    "\n",
    "Phimax = 90\n",
    "Phisteps = 0.5\n",
    "PhiPoints = int(Phimax/Phisteps) + 1\n",
    "tmax = 100\n",
    "tsteps = 0.01\n",
    "tpoints = int(tmax/tsteps)\n",
    "massmax = 20\n",
    "massmin = 1\n",
    "masssteps = 0.01\n",
    "masspoints = int((massmax - massmin)/masssteps)\n",
    "\n",
    "massPointsArray = np.arange(massmin, massmax, masssteps)\n",
    "Mass = np.zeros([masspoints, tpoints])\n",
    "PhiPointsArray = np.arange(0, Phimax+0.01, Phisteps)\n",
    "Phi = np.zeros([PhiPoints, tpoints])\n",
    "\n",
    "for i, phi0 in enumerate(PhiPointsArray):\n",
    "    Phi[i] = pd.rk4DobPend(0.5, 0.5, 0.5, 0.5, phi0, 0, 0, 0, tsteps, tmax, purpose=\"bifurcation angle\")\n",
    "\n",
    "#for i, mass in enumerate(massPointsArray):\n",
    " #   Mass[i] = pd.rk4DobPend(mass, 0.5, 0.5, 0.8, 90, 0, 0, 0, tsteps, tmax, purpose=\"bifurcation mass\")"
   ]
  },
  {
   "cell_type": "code",
   "execution_count": 16,
   "metadata": {
    "collapsed": false,
    "scrolled": true
   },
   "outputs": [
    {
     "data": {
      "image/png": "[encoded data removed]",
      "text/plain": [
       "<matplotlib.figure.Figure at 0x27801082c50>"
      ]
     },
     "metadata": {},
     "output_type": "display_data"
    }
   ],
   "source": [
    "plt.plot(PhiPointsArray[::], np.abs(Phi[::, 9200::100]),'r.', color='black', ms=1, alpha=1);\n",
    "plt.xlabel(\"initial angle of top pendulum\")\n",
    "plt.ylabel(\"angular velocity of lower pendulum\")\n",
    "plt.savefig(\"angle small bifurcation\")\n",
    "plt.show()"
   ]
  },
  {
   "cell_type": "code",
   "execution_count": 17,
   "metadata": {
    "collapsed": false
   },
   "outputs": [
    {
     "data": {
      "text/plain": [
       "315"
      ]
     },
     "execution_count": 17,
     "metadata": {},
     "output_type": "execute_result"
    }
   ],
   "source": [
    "PhiPointsArray.size"
   ]
  },
  {
   "cell_type": "code",
   "execution_count": 38,
   "metadata": {
    "collapsed": false
   },
   "outputs": [
    {
     "data": {
      "text/plain": [
       "(315, 10000)"
      ]
     },
     "execution_count": 38,
     "metadata": {},
     "output_type": "execute_result"
    }
   ],
   "source": [
    "np.shape(Phi)"
   ]
  },
  {
   "cell_type": "code",
   "execution_count": 12,
   "metadata": {
    "collapsed": true
   },
   "outputs": [],
   "source": [
    "PhiPointsArray = np.arange(0, Phimax+1, Phisteps)"
   ]
  },
  {
   "cell_type": "code",
   "execution_count": null,
   "metadata": {
    "collapsed": true
   },
   "outputs": [],
   "source": []
  }
 ],
 "metadata": {
  "kernelspec": {
   "display_name": "Python 3",
   "language": "python",
   "name": "python3"
  },
  "language_info": {
   "codemirror_mode": {
    "name": "ipython",
    "version": 3
   },
   "file_extension": ".py",
   "mimetype": "text/x-python",
   "name": "python",
   "nbconvert_exporter": "python",
   "pygments_lexer": "ipython3",
   "version": "3.5.1"
  }
 },
 "nbformat": 4,
 "nbformat_minor": 0
}
